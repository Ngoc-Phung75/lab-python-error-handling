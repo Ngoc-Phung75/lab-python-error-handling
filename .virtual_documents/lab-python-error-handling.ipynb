





#2 -Modify the calculate_total_price function to include error handling.


inventory = {
    "t-shirt": 5,
    "mug": 0,
    "hat": 3,
    "book": 2,
    "keychain": 10
}

def get_customer_orders(inventory):
    
    customer_orders = set()
    
    while True:
        try:
            # Prompt the user for the number of products they want to order
            num_orders = input("Enter the number of products you want to order: ").strip()
            num_orders = int(num_orders)

            if num_orders <= 0:
                raise ValueError("The number of products must be a positive integer.")
            break  # Exit loop when a valid number is entered
        except ValueError as e:
            print(f"Invalid input: {e}. Please try again.")

    print("\nAvailable products:")
    for product, stock in inventory.items():
        print(f" - {product} (Stock: {stock})")

    print("\nEnter the name of the products you want to order:")
    
    for _ in range(num_orders):
        while True:
            try:
                product = input("Enter product name: ").strip().lower()
                
                # Check if the product is valid and has stock
                if product not in inventory:
                    raise ValueError(f"'{product}' is not available in the inventory.")
                if inventory[product] <= 0:
                    raise ValueError(f"'{product}' is out of stock.")
                
                # Add valid product to the customer orders
                customer_orders.add(product)
                break  # Exit loop for the current product
            except ValueError as e:
                print(f"Invalid input: {e}. Please try again.")
    
    return customer_orders
    

#to run the function :
customer_orders = get_customer_orders(inventory)
print("\nProducts in your order:", customer_orders)



def calculate_total_price(customer_orders):
    
    if not customer_orders:
        print("No products were ordered.")
        return 0

    total_price = 0
    print("\nEnter the price for each product in your order:")

    for product in customer_orders:
        while True:
            try:
                price = input(f"Enter the price for {product}: ").strip()
                price = float(price)
                if price <= 0:
                    raise ValueError("Price must be a positive number.")
                total_price += price
                break
            except ValueError as e:
                print(f"Invalid input: {e}. Please try again.")

    return total_price


if __name__ == "__main__":
    print("Welcome to our shop!")

    # Step 1: Get customer orders
    customer_orders = get_customer_orders(inventory)

    # Step 2: Calculate total price
    total_price = calculate_total_price(customer_orders)

    # Step 3: Display total price
    if total_price > 0:
        print(f"\nTotal price of your order: ${total_price:.2f}")
    else:
        print("No valid orders to calculate the total price.")


import shutil
import os




