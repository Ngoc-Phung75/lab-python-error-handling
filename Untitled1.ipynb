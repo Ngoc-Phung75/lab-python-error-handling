{
 "cells": [
  {
   "cell_type": "code",
   "execution_count": 27,
   "id": "8ed90ef0-c408-4c81-9962-aac5bb7588bb",
   "metadata": {},
   "outputs": [
    {
     "name": "stdin",
     "output_type": "stream",
     "text": [
      "Enter the number of products you want to order:  3\n"
     ]
    },
    {
     "name": "stdout",
     "output_type": "stream",
     "text": [
      "\n",
      "Available products:\n",
      " - t-shirt (Stock: 5)\n",
      " - mug (Stock: 0)\n",
      " - hat (Stock: 3)\n",
      " - book (Stock: 2)\n",
      " - keychain (Stock: 10)\n",
      "\n",
      "Enter the name of the products you want to order:\n"
     ]
    },
    {
     "name": "stdin",
     "output_type": "stream",
     "text": [
      "Enter product name:  T-shirt\n",
      "Enter product name:  hat\n",
      "Enter product name:  mug\n"
     ]
    },
    {
     "name": "stdout",
     "output_type": "stream",
     "text": [
      "Invalid input: 'mug' is out of stock.. Please try again.\n"
     ]
    },
    {
     "name": "stdin",
     "output_type": "stream",
     "text": [
      "Enter product name:  book\n"
     ]
    },
    {
     "name": "stdout",
     "output_type": "stream",
     "text": [
      "\n",
      "Products in your order: {'book', 't-shirt', 'hat'}\n"
     ]
    }
   ],
   "source": [
    "inventory = {\n",
    "    \"t-shirt\": 5,\n",
    "    \"mug\": 0,\n",
    "    \"hat\": 3,\n",
    "    \"book\": 2,\n",
    "    \"keychain\": 10\n",
    "}\n",
    "\n",
    "def get_customer_orders(inventory):\n",
    "    \n",
    "    customer_orders = set()\n",
    "    \n",
    "    while True:\n",
    "        try:\n",
    "            # Prompt the user for the number of products they want to order\n",
    "            num_orders = input(\"Enter the number of products you want to order: \").strip()\n",
    "            num_orders = int(num_orders)\n",
    "\n",
    "            if num_orders <= 0:\n",
    "                raise ValueError(\"The number of products must be a positive integer.\")\n",
    "            break  # Exit loop when a valid number is entered\n",
    "        except ValueError as e:\n",
    "            print(f\"Invalid input: {e}. Please try again.\")\n",
    "\n",
    "    print(\"\\nAvailable products:\")\n",
    "    for product, stock in inventory.items():\n",
    "        print(f\" - {product} (Stock: {stock})\")\n",
    "\n",
    "    print(\"\\nEnter the name of the products you want to order:\")\n",
    "    \n",
    "    for _ in range(num_orders):\n",
    "        while True:\n",
    "            try:\n",
    "                product = input(\"Enter product name: \").strip().lower()\n",
    "                \n",
    "                # Check if the product is valid and has stock\n",
    "                if product not in inventory:\n",
    "                    raise ValueError(f\"'{product}' is not available in the inventory.\")\n",
    "                if inventory[product] <= 0:\n",
    "                    raise ValueError(f\"'{product}' is out of stock.\")\n",
    "                \n",
    "                # Add valid product to the customer orders\n",
    "                customer_orders.add(product)\n",
    "                break  # Exit loop for the current product\n",
    "            except ValueError as e:\n",
    "                print(f\"Invalid input: {e}. Please try again.\")\n",
    "    \n",
    "    return customer_orders\n",
    "\n",
    "customer_orders = get_customer_orders(inventory)\n",
    "print(\"\\nProducts in your order:\", customer_orders)"
   ]
  },
  {
   "cell_type": "code",
   "execution_count": 31,
   "id": "a4ae29c8-86ca-4195-9652-626d87416d03",
   "metadata": {},
   "outputs": [
    {
     "name": "stdout",
     "output_type": "stream",
     "text": [
      "Welcome to our shop!\n"
     ]
    },
    {
     "name": "stdin",
     "output_type": "stream",
     "text": [
      "Enter the number of products you want to order:  3\n"
     ]
    },
    {
     "name": "stdout",
     "output_type": "stream",
     "text": [
      "\n",
      "Available products:\n",
      " - t-shirt (Stock: 5)\n",
      " - mug (Stock: 0)\n",
      " - hat (Stock: 3)\n",
      " - book (Stock: 2)\n",
      " - keychain (Stock: 10)\n",
      "\n",
      "Enter the name of the products you want to order:\n"
     ]
    },
    {
     "name": "stdin",
     "output_type": "stream",
     "text": [
      "Enter product name:  MUG\n"
     ]
    },
    {
     "name": "stdout",
     "output_type": "stream",
     "text": [
      "Invalid input: 'mug' is out of stock.. Please try again.\n"
     ]
    },
    {
     "name": "stdin",
     "output_type": "stream",
     "text": [
      "Enter product name:  hat\n",
      "Enter product name:  book\n",
      "Enter product name:  KEY\n"
     ]
    },
    {
     "name": "stdout",
     "output_type": "stream",
     "text": [
      "Invalid input: 'key' is not available in the inventory.. Please try again.\n"
     ]
    },
    {
     "name": "stdin",
     "output_type": "stream",
     "text": [
      "Enter product name:  keychain\n"
     ]
    },
    {
     "name": "stdout",
     "output_type": "stream",
     "text": [
      "\n",
      "Enter the price for each product in your order:\n"
     ]
    },
    {
     "name": "stdin",
     "output_type": "stream",
     "text": [
      "Enter the price for book:  12\n",
      "Enter the price for hat:  45\n",
      "Enter the price for keychain:  23\n"
     ]
    },
    {
     "name": "stdout",
     "output_type": "stream",
     "text": [
      "\n",
      "Total price of your order: $80.00\n"
     ]
    }
   ],
   "source": [
    "def calculate_total_price(customer_orders):\n",
    "    \n",
    "    if not customer_orders:\n",
    "        print(\"No products were ordered.\")\n",
    "        return 0\n",
    "\n",
    "    total_price = 0\n",
    "    print(\"\\nEnter the price for each product in your order:\")\n",
    "\n",
    "    for product in customer_orders:\n",
    "        while True:\n",
    "            try:\n",
    "                price = input(f\"Enter the price for {product}: \").strip()\n",
    "                price = float(price)\n",
    "                if price <= 0:\n",
    "                    raise ValueError(\"Price must be a positive number.\")\n",
    "                total_price += price\n",
    "                break\n",
    "            except ValueError as e:\n",
    "                print(f\"Invalid input: {e}. Please try again.\")\n",
    "\n",
    "    return total_price\n",
    "\n",
    "\n",
    "if __name__ == \"__main__\":\n",
    "    print(\"Welcome to our shop!\")\n",
    "\n",
    "    # Step 1: Get customer orders\n",
    "    customer_orders = get_customer_orders(inventory)\n",
    "\n",
    "    # Step 2: Calculate total price\n",
    "    total_price = calculate_total_price(customer_orders)\n",
    "\n",
    "    # Step 3: Display total price\n",
    "    if total_price > 0:\n",
    "        print(f\"\\nTotal price of your order: ${total_price:.2f}\")\n",
    "    else:\n",
    "        print(\"No valid orders to calculate the total price.\")"
   ]
  },
  {
   "cell_type": "code",
   "execution_count": null,
   "id": "667fe760-2c48-45fc-b194-2aebde81374c",
   "metadata": {},
   "outputs": [],
   "source": []
  }
 ],
 "metadata": {
  "kernelspec": {
   "display_name": "Python [conda env:base] *",
   "language": "python",
   "name": "conda-base-py"
  },
  "language_info": {
   "codemirror_mode": {
    "name": "ipython",
    "version": 3
   },
   "file_extension": ".py",
   "mimetype": "text/x-python",
   "name": "python",
   "nbconvert_exporter": "python",
   "pygments_lexer": "ipython3",
   "version": "3.12.7"
  }
 },
 "nbformat": 4,
 "nbformat_minor": 5
}
