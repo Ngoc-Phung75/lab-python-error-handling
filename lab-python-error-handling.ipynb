{
 "cells": [
  {
   "cell_type": "markdown",
   "id": "25d7736c-ba17-4aff-b6bb-66eba20fbf4e",
   "metadata": {},
   "source": [
    "# Lab | Error Handling"
   ]
  },
  {
   "cell_type": "markdown",
   "id": "bc99b386-7508-47a0-bcdb-d969deaf6c8b",
   "metadata": {},
   "source": [
    "## Exercise: Error Handling for Managing Customer Orders\n",
    "\n",
    "The implementation of your code for managing customer orders assumes that the user will always enter a valid input. \n",
    "\n",
    "For example, we could modify the `initialize_inventory` function to include error handling.\n",
    "   - If the user enters an invalid quantity (e.g., a negative value or a non-numeric value), display an error message and ask them to re-enter the quantity for that product.\n",
    "   - Use a try-except block to handle the error and continue prompting the user until a valid quantity is entered.\n",
    "\n",
    "```python\n",
    "# Step 1: Define the function for initializing the inventory with error handling\n",
    "def initialize_inventory(products):\n",
    "    inventory = {}\n",
    "    for product in products:\n",
    "        valid_quantity = False\n",
    "        while not valid_quantity:\n",
    "            try:\n",
    "                quantity = int(input(f\"Enter the quantity of {product}s available: \"))\n",
    "                if quantity < 0:\n",
    "                    raise ValueError(\"Invalid quantity! Please enter a non-negative value.\")\n",
    "                valid_quantity = True\n",
    "            except ValueError as error:\n",
    "                print(f\"Error: {error}\")\n",
    "        inventory[product] = quantity\n",
    "    return inventory\n",
    "\n",
    "# Or, in another way:\n",
    "\n",
    "def initialize_inventory(products):\n",
    "    inventory = {}\n",
    "    for product in products:\n",
    "        valid_input = False\n",
    "        while not valid_input:\n",
    "            try:\n",
    "                quantity = int(input(f\"Enter the quantity of {product}s available: \"))\n",
    "                if quantity >= 0:\n",
    "                    inventory[product] = quantity\n",
    "                    valid_input = True\n",
    "                else:\n",
    "                    print(\"Quantity cannot be negative. Please enter a valid quantity.\")\n",
    "            except ValueError:\n",
    "                print(\"Invalid input. Please enter a valid quantity.\")\n",
    "    return inventory\n",
    "```\n",
    "\n",
    "Let's enhance your code by implementing error handling to handle invalid inputs.\n",
    "\n",
    "Follow the steps below to complete the exercise:\n",
    "\n",
    "2. Modify the `calculate_total_price` function to include error handling.\n",
    "   - If the user enters an invalid price (e.g., a negative value or a non-numeric value), display an error message and ask them to re-enter the price for that product.\n",
    "   - Use a try-except block to handle the error and continue prompting the user until a valid price is entered.\n",
    "\n",
    "3. Modify the `get_customer_orders` function to include error handling.\n",
    "   - If the user enters an invalid number of orders (e.g., a negative value or a non-numeric value), display an error message and ask them to re-enter the number of orders.\n",
    "   - If the user enters an invalid product name (e.g., a product name that is not in the inventory), or that doesn't have stock available, display an error message and ask them to re-enter the product name. *Hint: you will need to pass inventory as a parameter*\n",
    "   - Use a try-except block to handle the error and continue prompting the user until a valid product name is entered.\n",
    "\n",
    "4. Test your code by running the program and deliberately entering invalid quantities and product names. Make sure the error handling mechanism works as expected.\n"
   ]
  },
  {
   "cell_type": "code",
   "execution_count": 31,
   "id": "d2bbd63b-e5cd-4728-999a-024ade72c614",
   "metadata": {},
   "outputs": [],
   "source": [
    "#2 -Modify the calculate_total_price function to include error handling.\n",
    "\n",
    "\n",
    "inventory = {\n",
    "    \"t-shirt\": 5,\n",
    "    \"mug\": 0,\n",
    "    \"hat\": 3,\n",
    "    \"book\": 2,\n",
    "    \"keychain\": 10\n",
    "}\n",
    "\n",
    "def get_customer_orders(inventory):\n",
    "    \n",
    "    customer_orders = set()\n",
    "    \n",
    "    while True:\n",
    "        try:\n",
    "            # Prompt the user for the number of products they want to order\n",
    "            num_orders = input(\"Enter the number of products you want to order: \").strip()\n",
    "            num_orders = int(num_orders)\n",
    "\n",
    "            if num_orders <= 0:\n",
    "                raise ValueError(\"The number of products must be a positive integer.\")\n",
    "            break  # Exit loop when a valid number is entered\n",
    "        except ValueError as e:\n",
    "            print(f\"Invalid input: {e}. Please try again.\")\n",
    "\n",
    "    print(\"\\nAvailable products:\")\n",
    "    for product, stock in inventory.items():\n",
    "        print(f\" - {product} (Stock: {stock})\")\n",
    "\n",
    "    print(\"\\nEnter the name of the products you want to order:\")\n",
    "    \n",
    "    for _ in range(num_orders):\n",
    "        while True:\n",
    "            try:\n",
    "                product = input(\"Enter product name: \").strip().lower()\n",
    "                \n",
    "                # Check if the product is valid and has stock\n",
    "                if product not in inventory:\n",
    "                    raise ValueError(f\"'{product}' is not available in the inventory.\")\n",
    "                if inventory[product] <= 0:\n",
    "                    raise ValueError(f\"'{product}' is out of stock.\")\n",
    "                \n",
    "                # Add valid product to the customer orders\n",
    "                customer_orders.add(product)\n",
    "                break  # Exit loop for the current product\n",
    "            except ValueError as e:\n",
    "                print(f\"Invalid input: {e}. Please try again.\")\n",
    "    \n",
    "    return customer_orders\n",
    "    \n",
    "\n",
    "#to run the function :\n",
    "customer_orders = get_customer_orders(inventory)\n",
    "print(\"\\nProducts in your order:\", customer_orders)\n"
   ]
  },
  {
   "cell_type": "code",
   "execution_count": 49,
   "id": "8c67a1c6-3f6b-4bd5-be1c-f0230c00874d",
   "metadata": {},
   "outputs": [
    {
     "name": "stdout",
     "output_type": "stream",
     "text": [
      "Welcome to our shop!\n"
     ]
    },
    {
     "name": "stdin",
     "output_type": "stream",
     "text": [
      "Enter the number of products you want to order:  2\n"
     ]
    },
    {
     "name": "stdout",
     "output_type": "stream",
     "text": [
      "\n",
      "Available products:\n",
      " - t-shirt (Stock: 5)\n",
      " - mug (Stock: 0)\n",
      " - hat (Stock: 3)\n",
      " - book (Stock: 2)\n",
      " - keychain (Stock: 10)\n",
      "\n",
      "Enter the names of the products you want to order:\n"
     ]
    },
    {
     "name": "stdin",
     "output_type": "stream",
     "text": [
      "Enter product name:  MUG\n"
     ]
    },
    {
     "name": "stdout",
     "output_type": "stream",
     "text": [
      "Invalid input: 'mug' is out of stock.. Please try again.\n"
     ]
    },
    {
     "name": "stdin",
     "output_type": "stream",
     "text": [
      "Enter product name:  hAT\n",
      "Enter product name:  BOOK\n"
     ]
    },
    {
     "name": "stdout",
     "output_type": "stream",
     "text": [
      "\n",
      "Enter the price for each product in your order:\n"
     ]
    },
    {
     "name": "stdin",
     "output_type": "stream",
     "text": [
      "Enter the price for book:  key\n"
     ]
    },
    {
     "name": "stdout",
     "output_type": "stream",
     "text": [
      "Invalid input: could not convert string to float: 'key'. Please try again.\n"
     ]
    },
    {
     "name": "stdin",
     "output_type": "stream",
     "text": [
      "Enter the price for book:  keychain\n"
     ]
    },
    {
     "name": "stdout",
     "output_type": "stream",
     "text": [
      "Invalid input: could not convert string to float: 'keychain'. Please try again.\n"
     ]
    },
    {
     "name": "stdin",
     "output_type": "stream",
     "text": [
      "Enter the price for book:  15\n",
      "Enter the price for hat:  27\n"
     ]
    },
    {
     "name": "stdout",
     "output_type": "stream",
     "text": [
      "\n",
      "Total price of your order: $42.00\n"
     ]
    }
   ],
   "source": [
    "def calculate_total_price(customer_orders):\n",
    "    \n",
    "    if not customer_orders:\n",
    "        print(\"No products were ordered.\")\n",
    "        return 0\n",
    "\n",
    "    total_price = 0\n",
    "    print(\"\\nEnter the price for each product in your order:\")\n",
    "\n",
    "    for product in customer_orders:\n",
    "        while True:\n",
    "            try:\n",
    "                price = input(f\"Enter the price for {product}: \").strip()\n",
    "                price = float(price)\n",
    "                if price <= 0:\n",
    "                    raise ValueError(\"Price must be a positive number.\")\n",
    "                total_price += price\n",
    "                break\n",
    "            except ValueError as e:\n",
    "                print(f\"Invalid input: {e}. Please try again.\")\n",
    "\n",
    "    return total_price\n",
    "\n",
    "\n",
    "if __name__ == \"__main__\":\n",
    "    print(\"Welcome to our shop!\")\n",
    "\n",
    "    # Step 1: Get customer orders\n",
    "    customer_orders = get_customer_orders(inventory)\n",
    "\n",
    "    # Step 2: Calculate total price\n",
    "    total_price = calculate_total_price(customer_orders)\n",
    "\n",
    "    # Step 3: Display total price\n",
    "    if total_price > 0:\n",
    "        print(f\"\\nTotal price of your order: ${total_price:.2f}\")\n",
    "    else:\n",
    "        print(\"No valid orders to calculate the total price.\")"
   ]
  },
  {
   "cell_type": "code",
   "execution_count": null,
   "id": "fa5de220-4ee3-4749-a680-ec868e0e0ee2",
   "metadata": {},
   "outputs": [],
   "source": []
  }
 ],
 "metadata": {
  "kernelspec": {
   "display_name": "Python [conda env:base] *",
   "language": "python",
   "name": "conda-base-py"
  },
  "language_info": {
   "codemirror_mode": {
    "name": "ipython",
    "version": 3
   },
   "file_extension": ".py",
   "mimetype": "text/x-python",
   "name": "python",
   "nbconvert_exporter": "python",
   "pygments_lexer": "ipython3",
   "version": "3.12.7"
  }
 },
 "nbformat": 4,
 "nbformat_minor": 5
}
